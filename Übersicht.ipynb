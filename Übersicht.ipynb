{
 "cells": [
  {
   "cell_type": "markdown",
   "metadata": {},
   "source": [
    "# Übersicht"
   ]
  },
  {
   "cell_type": "markdown",
   "metadata": {},
   "source": [
    "## Inhaltsverzeichnis\n",
    "\n",
    "1. Mengen und Mengenoperationen\n",
    " - [Mengen](./01_Mengen.ipynb)\n",
    " - [Mengenoperationen](./01_Mengenoperationen.ipynb)\n",
    "2. Relationen und Funktionen\n",
    " - [Relationen](./02_Relationen.ipynb) (Tupel, Cartesisches Produkt, Eigenschaften von Relationen)\n",
    " - [Äquivalenzrelationen](./02_Äquivalenzrelationen.ipynb) (Äquivalenzrelationen und -klassen, Partition einer Menge)\n",
    " - [Funktionen](./02_Funktionen.ipynb)\n",
    "3. Formale Sprachen\n",
    " - [Wörter und formale Sprachen](./03_Wörter-und-formale-Sprachen.ipynb)\n",
    " - [Endliche Automaten](./03_Endliche-Automaten.ipynb)\n",
    " - [Grammatiken](./03_Grammatiken.ipynb)\n",
    "4. Ordnungsrelationen\n",
    " - [Ordnungen](./04_Ordnungen.ipynb)\n",
    " - [ordnungserhaltende Abbildungen](04_Ordnungserhaltende-Abbildungen.ipynb)\n",
    " - [Verbände](./04_Verbände.ipynb)\n",
    "5. Algebren\n",
    " - [Algebren](./05_Algebren.ipynb)\n",
    " - [Morphismen](./05_Morphismen.ipynb)\n",
    " - [Gruppen](./05_Gruppen.ipynb)\n",
    " - [Verbände](./05_Verbände.ipynb)\n",
    "6. [Bäume](./06_Bäume.ipynb)\n",
    "7. [Kombinatorik](./07_Kombinatorik.ipynb)\n",
    " - [Berechnen des Binomialkoeffizienten](07_BinKoEff.ipynb)\n",
    " - [Selbsttest Kombinatorik](./07_Kombinatorik_Selbsttest.ipynb)\n",
    " - [Das Modul Kombinatorik im Matheprisma der Uni Wuppertal](http://www.matheprisma.uni-wuppertal.de/Module/Kombin/) ist eine gute Ergänzung zum Foliensatz und zu den Notebooks!\n",
    "8. Wahrscheinlichkeitstheorie\n",
    " - [Wahrscheinlichkeit](./08_Wahrscheinlichkeit.ipynb)\n",
    " - [Laplace](./08_Laplace.ipynb)\n",
    " - [Bedingte Wahrscheinlichkeit](./08_BedingteWahrscheinlichkeit.ipynb)\n",
    " - [Selbsttest Wahrscheinlichkeit](./08_Wahrscheinlichkeit.ipynb)\n",
    "9. [Lineare Algebra](./09_LinA.ipynb) - Gruppen, Körper, Vektorräume, Addition, (Skalar)Multiplikation, Winkel, Länge, Distanz Vektoren\n",
    " - [Matrizen](./09_Matrizen.ipynb)\n",
    "10. [Graphentheorie](./10_Graphen.ipynb)\n",
    "9. Beweise\n",
    "10. Grundlagen der Analysis\n"
   ]
  },
  {
   "cell_type": "markdown",
   "metadata": {},
   "source": [
    "## Nützliche Links\n",
    "\n",
    "- [Das griechische Alphabet](https://www.mat.univie.ac.at/~huyer/griechalph.pdf) wird häufig verwendet, um Dinge in der Mathematik, Logik, Informatik... zu beschreiben. \n",
    "- Die Youtube-Kanäle [Numberphile](https://www.youtube.com/user/numberphile/) und [Computerphile](https://www.youtube.com/user/computerphile/) kann ich sehr empfehlen, um sich unterhaltsam mit den Mathematik- und Informatikinhalten des CL-Studiums vertraut zu machen. Egal, ob es nun um die Geschichte der Programmierung, Turingmaschinen, Berechenbarkeit oder Primzahlen geht :)\n",
    "- [Praktisches Tool zum Automaten zeichnen](http://madebyevan.com/fsm/)"
   ]
  },
  {
   "cell_type": "markdown",
   "metadata": {},
   "source": [
    "## Warum Mathe?\n",
    "\n",
    "> \"Science. Essentially maths disguised as dinosaurs and outer space to try and seem interesting.\" (John Oliver)\n",
    "\n",
    "Er hat recht. Wir brauchen ein bisschen Mathematik, um sauber beschreiben zu können, was wir in der Computerlinguistik tun."
   ]
  },
  {
   "cell_type": "code",
   "execution_count": null,
   "metadata": {},
   "outputs": [],
   "source": []
  }
 ],
 "metadata": {
  "kernelspec": {
   "display_name": "Python 3",
   "language": "python",
   "name": "python3"
  },
  "language_info": {
   "codemirror_mode": {
    "name": "ipython",
    "version": 3
   },
   "file_extension": ".py",
   "mimetype": "text/x-python",
   "name": "python",
   "nbconvert_exporter": "python",
   "pygments_lexer": "ipython3",
   "version": "3.6.4"
  }
 },
 "nbformat": 4,
 "nbformat_minor": 2
}
